{
 "cells": [
  {
   "cell_type": "markdown",
   "metadata": {},
   "source": [
    "#Trackpy es una librería de python para trackear partículas en 2D, 3D, etc.\n",
    "\n",
    "A continuación los pasos ejecutados para el uso básico de la librería, los parámetros y más."
   ]
  },
  {
   "cell_type": "markdown",
   "metadata": {},
   "source": [
    "##Paso 1:Leer la información:"
   ]
  },
  {
   "cell_type": "markdown",
   "metadata": {},
   "source": [
    "###Configuración e importación de bibliotecas"
   ]
  },
  {
   "cell_type": "code",
   "execution_count": 5,
   "metadata": {},
   "outputs": [],
   "source": [
    "from __future__ import division, unicode_literals, print_function\n",
    "\n",
    "#Se cargan los graficadores\n",
    "import matplotlib as mpl\n",
    "import matplotlib.pyplot as plt\n",
    "import time\n",
    "\n",
    "#Configuración de figuras\n",
    "mpl.rc('figure', figsize=(8,5))\n",
    "mpl.rc('image',cmap='gray')\n",
    "\n",
    "#Se importa numpy y pandas para procesarmiento de datos y arreglos\n",
    "import numpy as np\n",
    "import pandas as pd\n",
    "from pandas import DataFrame, Series\n",
    "\n",
    "#Se importa pims para cargar secuencias de imagenes y videos y trackpy\n",
    "import pims\n",
    "import trackpy as tp"
   ]
  },
  {
   "cell_type": "markdown",
   "metadata": {},
   "source": []
  }
 ],
 "metadata": {
  "kernelspec": {
   "display_name": "base",
   "language": "python",
   "name": "python3"
  },
  "language_info": {
   "codemirror_mode": {
    "name": "ipython",
    "version": 3
   },
   "file_extension": ".py",
   "mimetype": "text/x-python",
   "name": "python",
   "nbconvert_exporter": "python",
   "pygments_lexer": "ipython3",
   "version": "3.9.17"
  },
  "orig_nbformat": 4
 },
 "nbformat": 4,
 "nbformat_minor": 2
}
